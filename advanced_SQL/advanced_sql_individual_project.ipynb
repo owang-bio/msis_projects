{
 "cells": [
  {
   "cell_type": "code",
   "execution_count": 10,
   "metadata": {},
   "outputs": [
    {
     "name": "stdout",
     "output_type": "stream",
     "text": [
      "The google.cloud.bigquery extension is already loaded. To reload it, use:\n",
      "  %reload_ext google.cloud.bigquery\n"
     ]
    }
   ],
   "source": [
    "# !export GOOGLE_APPLICATION_CREDENTIALS=\"/home/owang/.google/BigQuery.json\"\n",
    "%load_ext google.cloud.bigquery"
   ]
  },
  {
   "cell_type": "markdown",
   "metadata": {},
   "source": [
    "### create dim_date table"
   ]
  },
  {
   "cell_type": "code",
   "execution_count": 6,
   "metadata": {},
   "outputs": [
    {
     "data": {
      "text/html": [
       "<div>\n",
       "<style scoped>\n",
       "    .dataframe tbody tr th:only-of-type {\n",
       "        vertical-align: middle;\n",
       "    }\n",
       "\n",
       "    .dataframe tbody tr th {\n",
       "        vertical-align: top;\n",
       "    }\n",
       "\n",
       "    .dataframe thead th {\n",
       "        text-align: right;\n",
       "    }\n",
       "</style>\n",
       "<table border=\"1\" class=\"dataframe\">\n",
       "  <thead>\n",
       "    <tr style=\"text-align: right;\">\n",
       "      <th></th>\n",
       "    </tr>\n",
       "  </thead>\n",
       "  <tbody>\n",
       "  </tbody>\n",
       "</table>\n",
       "</div>"
      ],
      "text/plain": [
       "Empty DataFrame\n",
       "Columns: []\n",
       "Index: []"
      ]
     },
     "execution_count": 6,
     "metadata": {},
     "output_type": "execute_result"
    }
   ],
   "source": [
    "%%bigquery --project bigquery-281204 --use_rest_api\n",
    "create or replace table bigquery-281204.is6850.dim_date\n",
    "    as (\n",
    "        select \n",
    "            cast(format_date(\"%E4Y%m%d\", dates) as numeric) as `DateKey`\n",
    "            , format_date(\"%D\", dates) as `Date`\n",
    "            , extract(year from dates) as `Year`\n",
    "            , extract(month from dates) as `Month`\n",
    "            , extract(quarter from dates) as `Quarter`\n",
    "            , extract(dayofweek from dates) as `DayOfWeek`\n",
    "            , extract(isoweek from dates) as `ISOWeek`\n",
    "            , format_date(\"%A\", dates) as `DayName`\n",
    "            , format_date(\"%B\", dates) as `MonthName`\n",
    "            , if(extract(dayofweek from dates)=1 or extract(dayofweek from dates)=7, 1, 0) as `IsWeekend`\n",
    "        from unnest(generate_date_array('2010-01-01', '2030-01-01')) as `dates`\n",
    ");"
   ]
  },
  {
   "cell_type": "markdown",
   "metadata": {},
   "source": [
    "### create covid-19 summary table, including daily cases/death and accumulative cases/death"
   ]
  },
  {
   "cell_type": "code",
   "execution_count": 22,
   "metadata": {},
   "outputs": [
    {
     "data": {
      "text/html": [
       "<div>\n",
       "<style scoped>\n",
       "    .dataframe tbody tr th:only-of-type {\n",
       "        vertical-align: middle;\n",
       "    }\n",
       "\n",
       "    .dataframe tbody tr th {\n",
       "        vertical-align: top;\n",
       "    }\n",
       "\n",
       "    .dataframe thead th {\n",
       "        text-align: right;\n",
       "    }\n",
       "</style>\n",
       "<table border=\"1\" class=\"dataframe\">\n",
       "  <thead>\n",
       "    <tr style=\"text-align: right;\">\n",
       "      <th></th>\n",
       "    </tr>\n",
       "  </thead>\n",
       "  <tbody>\n",
       "  </tbody>\n",
       "</table>\n",
       "</div>"
      ],
      "text/plain": [
       "Empty DataFrame\n",
       "Columns: []\n",
       "Index: []"
      ]
     },
     "execution_count": 22,
     "metadata": {},
     "output_type": "execute_result"
    }
   ],
   "source": [
    "%%bigquery --project bigquery-281204 --use_rest_api\n",
    "create or replace table bigquery-281204.is6850.covid19_summary as\n",
    "    with temp as (\n",
    "      select date\n",
    "        , sum(confirmed_cases) as cumulative_confirmed_cases\n",
    "        , sum(deaths) as cumulative_deaths\n",
    "      from `bigquery-public-data.covid19_nyt.us_states`\n",
    "      group by date\n",
    "      order by date\n",
    "    )\n",
    "    select date\n",
    "     , cumulative_confirmed_cases\n",
    "     , cumulative_confirmed_cases - first_value(cumulative_confirmed_cases) over (diff) as daily_confirmed_cases\n",
    "     , cumulative_deaths\n",
    "     , cumulative_deaths - first_value(cumulative_deaths) over (diff) as daily_death\n",
    "    from temp\n",
    "    window diff as (\n",
    "      order by date\n",
    "      rows between 1 preceding and current row\n",
    "    );"
   ]
  },
  {
   "cell_type": "markdown",
   "metadata": {},
   "source": [
    "### create summary table include gas consumption and daily covid-19 cases, saved in array to preserve order"
   ]
  },
  {
   "cell_type": "code",
   "execution_count": 24,
   "metadata": {},
   "outputs": [
    {
     "data": {
      "text/html": [
       "<div>\n",
       "<style scoped>\n",
       "    .dataframe tbody tr th:only-of-type {\n",
       "        vertical-align: middle;\n",
       "    }\n",
       "\n",
       "    .dataframe tbody tr th {\n",
       "        vertical-align: top;\n",
       "    }\n",
       "\n",
       "    .dataframe thead th {\n",
       "        text-align: right;\n",
       "    }\n",
       "</style>\n",
       "<table border=\"1\" class=\"dataframe\">\n",
       "  <thead>\n",
       "    <tr style=\"text-align: right;\">\n",
       "      <th></th>\n",
       "    </tr>\n",
       "  </thead>\n",
       "  <tbody>\n",
       "  </tbody>\n",
       "</table>\n",
       "</div>"
      ],
      "text/plain": [
       "Empty DataFrame\n",
       "Columns: []\n",
       "Index: []"
      ]
     },
     "execution_count": 24,
     "metadata": {},
     "output_type": "execute_result"
    }
   ],
   "source": [
    "%%bigquery --project bigquery-281204 --use_rest_api\n",
    "create or replace table bigquery-281204.is6850.summary_daily_cases as\n",
    "  with temp as (\n",
    "    select \n",
    "        date\n",
    "        , daily_confirmed_cases\n",
    "        , Weekly_US_Product_Supplied_of_Finished_Motor_Gasoline_Thousand_Barrels_per_Day as gas\n",
    "    from bigquery-281204.is6850.covid19_summary dc\n",
    "    join bigquery-281204.is6850.gas_consumption gc\n",
    "    on dc.date = gc.week_of\n",
    "  )\n",
    "  select \n",
    "    array_agg(\n",
    "      struct(date, daily_confirmed_cases, gas)\n",
    "      order by date) \n",
    "      as summary\n",
    "  from temp\n",
    ";"
   ]
  },
  {
   "cell_type": "markdown",
   "metadata": {},
   "source": [
    "### get standard devidation and mean then normalize data"
   ]
  },
  {
   "cell_type": "code",
   "execution_count": 26,
   "metadata": {},
   "outputs": [
    {
     "data": {
      "text/html": [
       "<div>\n",
       "<style scoped>\n",
       "    .dataframe tbody tr th:only-of-type {\n",
       "        vertical-align: middle;\n",
       "    }\n",
       "\n",
       "    .dataframe tbody tr th {\n",
       "        vertical-align: top;\n",
       "    }\n",
       "\n",
       "    .dataframe thead th {\n",
       "        text-align: right;\n",
       "    }\n",
       "</style>\n",
       "<table border=\"1\" class=\"dataframe\">\n",
       "  <thead>\n",
       "    <tr style=\"text-align: right;\">\n",
       "      <th></th>\n",
       "    </tr>\n",
       "  </thead>\n",
       "  <tbody>\n",
       "  </tbody>\n",
       "</table>\n",
       "</div>"
      ],
      "text/plain": [
       "Empty DataFrame\n",
       "Columns: []\n",
       "Index: []"
      ]
     },
     "execution_count": 26,
     "metadata": {},
     "output_type": "execute_result"
    }
   ],
   "source": [
    "%%bigquery --project bigquery-281204 --use_rest_api\n",
    "create or replace table bigquery-281204.is6850.correlation_data as\n",
    "with temp as (\n",
    "  SELECT \n",
    "    date\n",
    "    , daily_confirmed_cases\n",
    "    , stddev(daily_confirmed_cases)\n",
    "      over(statistics) as cases_stddev\n",
    "    , avg(daily_confirmed_cases) \n",
    "      over(statistics) as cases_avg\n",
    "    , gas\n",
    "    , stddev(gas)\n",
    "      over(statistics) as gas_stddev\n",
    "    , avg(gas)\n",
    "      over(statistics) as gas_avg\n",
    "  FROM `bigquery-281204.is6850.summary_daily_cases`\n",
    "  , unnest(`bigquery-281204.is6850.summary_daily_cases`.summary)\n",
    "  window statistics as (\n",
    "      order by date\n",
    "      rows between unbounded preceding and unbounded following\n",
    "  )\n",
    ")\n",
    "select\n",
    "  date,\n",
    "  (daily_confirmed_cases - cases_avg)/cases_stddev as norm_cases\n",
    "  , (gas - gas_avg)/gas_stddev as norm_gas\n",
    "from temp\n",
    ";"
   ]
  },
  {
   "cell_type": "markdown",
   "metadata": {},
   "source": [
    "### get Pearson Correlation coefficientcreate from above normalized data"
   ]
  },
  {
   "cell_type": "code",
   "execution_count": 29,
   "metadata": {},
   "outputs": [
    {
     "data": {
      "text/html": [
       "<div>\n",
       "<style scoped>\n",
       "    .dataframe tbody tr th:only-of-type {\n",
       "        vertical-align: middle;\n",
       "    }\n",
       "\n",
       "    .dataframe tbody tr th {\n",
       "        vertical-align: top;\n",
       "    }\n",
       "\n",
       "    .dataframe thead th {\n",
       "        text-align: right;\n",
       "    }\n",
       "</style>\n",
       "<table border=\"1\" class=\"dataframe\">\n",
       "  <thead>\n",
       "    <tr style=\"text-align: right;\">\n",
       "      <th></th>\n",
       "      <th>pearson</th>\n",
       "    </tr>\n",
       "  </thead>\n",
       "  <tbody>\n",
       "    <tr>\n",
       "      <th>0</th>\n",
       "      <td>-0.3252</td>\n",
       "    </tr>\n",
       "  </tbody>\n",
       "</table>\n",
       "</div>"
      ],
      "text/plain": [
       "   pearson\n",
       "0  -0.3252"
      ]
     },
     "execution_count": 29,
     "metadata": {},
     "output_type": "execute_result"
    }
   ],
   "source": [
    "%%bigquery --project bigquery-281204 --use_rest_api\n",
    "SELECT round(corr(norm_cases, norm_gas), 4) as pearson\n",
    "FROM `bigquery-281204.is6850.correlation_data`\n",
    ";"
   ]
  },
  {
   "cell_type": "code",
   "execution_count": null,
   "metadata": {},
   "outputs": [],
   "source": []
  }
 ],
 "metadata": {
  "kernelspec": {
   "display_name": "Python 3",
   "language": "python",
   "name": "python3"
  },
  "language_info": {
   "codemirror_mode": {
    "name": "ipython",
    "version": 3
   },
   "file_extension": ".py",
   "mimetype": "text/x-python",
   "name": "python",
   "nbconvert_exporter": "python",
   "pygments_lexer": "ipython3",
   "version": "3.8.2"
  }
 },
 "nbformat": 4,
 "nbformat_minor": 4
}
